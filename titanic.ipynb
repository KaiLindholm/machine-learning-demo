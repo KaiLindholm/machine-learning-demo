{
 "cells": [
  {
   "cell_type": "code",
   "execution_count": 1,
   "id": "e5a0355f",
   "metadata": {
    "_cell_guid": "b1076dfc-b9ad-4769-8c92-a6c4dae69d19",
    "_uuid": "8f2839f25d086af736a60e9eeb907d3b93b6e0e5",
    "execution": {
     "iopub.execute_input": "2022-02-07T23:32:48.452866Z",
     "iopub.status.busy": "2022-02-07T23:32:48.445721Z",
     "iopub.status.idle": "2022-02-07T23:32:49.759198Z",
     "shell.execute_reply": "2022-02-07T23:32:49.759937Z",
     "shell.execute_reply.started": "2022-02-07T23:30:23.967177Z"
    },
    "papermill": {
     "duration": 1.328639,
     "end_time": "2022-02-07T23:32:49.760259",
     "exception": false,
     "start_time": "2022-02-07T23:32:48.431620",
     "status": "completed"
    },
    "tags": []
   },
   "outputs": [
    {
     "name": "stdout",
     "output_type": "stream",
     "text": [
      "/kaggle/input/titanic/train.csv\n",
      "/kaggle/input/titanic/test.csv\n",
      "/kaggle/input/titanic/gender_submission.csv\n"
     ]
    }
   ],
   "source": [
    "import numpy as np # linear algebra\n",
    "import pandas as pd # data processing, CSV file I/O (e.g. pd.read_csv)\n",
    "from sklearn.tree import DecisionTreeClassifier, plot_tree\n",
    "import os\n",
    "for dirname, _, filenames in os.walk('/kaggle/input'):\n",
    "    for filename in filenames:\n",
    "        print(os.path.join(dirname, filename))"
   ]
  },
  {
   "cell_type": "code",
   "execution_count": 2,
   "id": "32ab4ff5",
   "metadata": {
    "execution": {
     "iopub.execute_input": "2022-02-07T23:32:49.787486Z",
     "iopub.status.busy": "2022-02-07T23:32:49.786713Z",
     "iopub.status.idle": "2022-02-07T23:32:49.821605Z",
     "shell.execute_reply": "2022-02-07T23:32:49.822250Z",
     "shell.execute_reply.started": "2022-02-07T23:13:21.265922Z"
    },
    "papermill": {
     "duration": 0.051216,
     "end_time": "2022-02-07T23:32:49.822430",
     "exception": false,
     "start_time": "2022-02-07T23:32:49.771214",
     "status": "completed"
    },
    "tags": []
   },
   "outputs": [],
   "source": [
    "INPUT_DIR = os.path.join(\"/kaggle\", \"input\")\n",
    "test_df = pd.read_csv(os.path.join(INPUT_DIR, \"titanic\", \"test.csv\"))       \n",
    "train_df = pd.read_csv(os.path.join(INPUT_DIR, \"titanic\", \"train.csv\"))\n"
   ]
  },
  {
   "cell_type": "code",
   "execution_count": 3,
   "id": "fda35e3e",
   "metadata": {
    "execution": {
     "iopub.execute_input": "2022-02-07T23:32:49.845638Z",
     "iopub.status.busy": "2022-02-07T23:32:49.844663Z",
     "iopub.status.idle": "2022-02-07T23:32:49.873021Z",
     "shell.execute_reply": "2022-02-07T23:32:49.873491Z",
     "shell.execute_reply.started": "2022-02-07T23:13:26.208964Z"
    },
    "papermill": {
     "duration": 0.041444,
     "end_time": "2022-02-07T23:32:49.873672",
     "exception": false,
     "start_time": "2022-02-07T23:32:49.832228",
     "status": "completed"
    },
    "tags": []
   },
   "outputs": [
    {
     "data": {
      "text/html": [
       "<div>\n",
       "<style scoped>\n",
       "    .dataframe tbody tr th:only-of-type {\n",
       "        vertical-align: middle;\n",
       "    }\n",
       "\n",
       "    .dataframe tbody tr th {\n",
       "        vertical-align: top;\n",
       "    }\n",
       "\n",
       "    .dataframe thead th {\n",
       "        text-align: right;\n",
       "    }\n",
       "</style>\n",
       "<table border=\"1\" class=\"dataframe\">\n",
       "  <thead>\n",
       "    <tr style=\"text-align: right;\">\n",
       "      <th></th>\n",
       "      <th>PassengerId</th>\n",
       "      <th>Survived</th>\n",
       "      <th>Pclass</th>\n",
       "      <th>Name</th>\n",
       "      <th>Sex</th>\n",
       "      <th>Age</th>\n",
       "      <th>SibSp</th>\n",
       "      <th>Parch</th>\n",
       "      <th>Ticket</th>\n",
       "      <th>Fare</th>\n",
       "      <th>Cabin</th>\n",
       "      <th>Embarked</th>\n",
       "    </tr>\n",
       "  </thead>\n",
       "  <tbody>\n",
       "    <tr>\n",
       "      <th>0</th>\n",
       "      <td>1</td>\n",
       "      <td>0</td>\n",
       "      <td>3</td>\n",
       "      <td>Braund, Mr. Owen Harris</td>\n",
       "      <td>male</td>\n",
       "      <td>22.0</td>\n",
       "      <td>1</td>\n",
       "      <td>0</td>\n",
       "      <td>A/5 21171</td>\n",
       "      <td>7.2500</td>\n",
       "      <td>NaN</td>\n",
       "      <td>S</td>\n",
       "    </tr>\n",
       "    <tr>\n",
       "      <th>1</th>\n",
       "      <td>2</td>\n",
       "      <td>1</td>\n",
       "      <td>1</td>\n",
       "      <td>Cumings, Mrs. John Bradley (Florence Briggs Th...</td>\n",
       "      <td>female</td>\n",
       "      <td>38.0</td>\n",
       "      <td>1</td>\n",
       "      <td>0</td>\n",
       "      <td>PC 17599</td>\n",
       "      <td>71.2833</td>\n",
       "      <td>C85</td>\n",
       "      <td>C</td>\n",
       "    </tr>\n",
       "    <tr>\n",
       "      <th>2</th>\n",
       "      <td>3</td>\n",
       "      <td>1</td>\n",
       "      <td>3</td>\n",
       "      <td>Heikkinen, Miss. Laina</td>\n",
       "      <td>female</td>\n",
       "      <td>26.0</td>\n",
       "      <td>0</td>\n",
       "      <td>0</td>\n",
       "      <td>STON/O2. 3101282</td>\n",
       "      <td>7.9250</td>\n",
       "      <td>NaN</td>\n",
       "      <td>S</td>\n",
       "    </tr>\n",
       "    <tr>\n",
       "      <th>3</th>\n",
       "      <td>4</td>\n",
       "      <td>1</td>\n",
       "      <td>1</td>\n",
       "      <td>Futrelle, Mrs. Jacques Heath (Lily May Peel)</td>\n",
       "      <td>female</td>\n",
       "      <td>35.0</td>\n",
       "      <td>1</td>\n",
       "      <td>0</td>\n",
       "      <td>113803</td>\n",
       "      <td>53.1000</td>\n",
       "      <td>C123</td>\n",
       "      <td>S</td>\n",
       "    </tr>\n",
       "    <tr>\n",
       "      <th>4</th>\n",
       "      <td>5</td>\n",
       "      <td>0</td>\n",
       "      <td>3</td>\n",
       "      <td>Allen, Mr. William Henry</td>\n",
       "      <td>male</td>\n",
       "      <td>35.0</td>\n",
       "      <td>0</td>\n",
       "      <td>0</td>\n",
       "      <td>373450</td>\n",
       "      <td>8.0500</td>\n",
       "      <td>NaN</td>\n",
       "      <td>S</td>\n",
       "    </tr>\n",
       "  </tbody>\n",
       "</table>\n",
       "</div>"
      ],
      "text/plain": [
       "   PassengerId  Survived  Pclass  \\\n",
       "0            1         0       3   \n",
       "1            2         1       1   \n",
       "2            3         1       3   \n",
       "3            4         1       1   \n",
       "4            5         0       3   \n",
       "\n",
       "                                                Name     Sex   Age  SibSp  \\\n",
       "0                            Braund, Mr. Owen Harris    male  22.0      1   \n",
       "1  Cumings, Mrs. John Bradley (Florence Briggs Th...  female  38.0      1   \n",
       "2                             Heikkinen, Miss. Laina  female  26.0      0   \n",
       "3       Futrelle, Mrs. Jacques Heath (Lily May Peel)  female  35.0      1   \n",
       "4                           Allen, Mr. William Henry    male  35.0      0   \n",
       "\n",
       "   Parch            Ticket     Fare Cabin Embarked  \n",
       "0      0         A/5 21171   7.2500   NaN        S  \n",
       "1      0          PC 17599  71.2833   C85        C  \n",
       "2      0  STON/O2. 3101282   7.9250   NaN        S  \n",
       "3      0            113803  53.1000  C123        S  \n",
       "4      0            373450   8.0500   NaN        S  "
      ]
     },
     "execution_count": 3,
     "metadata": {},
     "output_type": "execute_result"
    }
   ],
   "source": [
    "train_df.head()"
   ]
  },
  {
   "cell_type": "code",
   "execution_count": 4,
   "id": "04d99b46",
   "metadata": {
    "execution": {
     "iopub.execute_input": "2022-02-07T23:32:49.909997Z",
     "iopub.status.busy": "2022-02-07T23:32:49.909261Z",
     "iopub.status.idle": "2022-02-07T23:32:49.912012Z",
     "shell.execute_reply": "2022-02-07T23:32:49.912573Z",
     "shell.execute_reply.started": "2022-02-07T23:13:42.406271Z"
    },
    "papermill": {
     "duration": 0.028367,
     "end_time": "2022-02-07T23:32:49.912779",
     "exception": false,
     "start_time": "2022-02-07T23:32:49.884412",
     "status": "completed"
    },
    "tags": []
   },
   "outputs": [
    {
     "data": {
      "text/html": [
       "<div>\n",
       "<style scoped>\n",
       "    .dataframe tbody tr th:only-of-type {\n",
       "        vertical-align: middle;\n",
       "    }\n",
       "\n",
       "    .dataframe tbody tr th {\n",
       "        vertical-align: top;\n",
       "    }\n",
       "\n",
       "    .dataframe thead th {\n",
       "        text-align: right;\n",
       "    }\n",
       "</style>\n",
       "<table border=\"1\" class=\"dataframe\">\n",
       "  <thead>\n",
       "    <tr style=\"text-align: right;\">\n",
       "      <th></th>\n",
       "      <th>PassengerId</th>\n",
       "      <th>Pclass</th>\n",
       "      <th>Name</th>\n",
       "      <th>Sex</th>\n",
       "      <th>Age</th>\n",
       "      <th>SibSp</th>\n",
       "      <th>Parch</th>\n",
       "      <th>Ticket</th>\n",
       "      <th>Fare</th>\n",
       "      <th>Cabin</th>\n",
       "      <th>Embarked</th>\n",
       "    </tr>\n",
       "  </thead>\n",
       "  <tbody>\n",
       "    <tr>\n",
       "      <th>0</th>\n",
       "      <td>892</td>\n",
       "      <td>3</td>\n",
       "      <td>Kelly, Mr. James</td>\n",
       "      <td>male</td>\n",
       "      <td>34.5</td>\n",
       "      <td>0</td>\n",
       "      <td>0</td>\n",
       "      <td>330911</td>\n",
       "      <td>7.8292</td>\n",
       "      <td>NaN</td>\n",
       "      <td>Q</td>\n",
       "    </tr>\n",
       "    <tr>\n",
       "      <th>1</th>\n",
       "      <td>893</td>\n",
       "      <td>3</td>\n",
       "      <td>Wilkes, Mrs. James (Ellen Needs)</td>\n",
       "      <td>female</td>\n",
       "      <td>47.0</td>\n",
       "      <td>1</td>\n",
       "      <td>0</td>\n",
       "      <td>363272</td>\n",
       "      <td>7.0000</td>\n",
       "      <td>NaN</td>\n",
       "      <td>S</td>\n",
       "    </tr>\n",
       "    <tr>\n",
       "      <th>2</th>\n",
       "      <td>894</td>\n",
       "      <td>2</td>\n",
       "      <td>Myles, Mr. Thomas Francis</td>\n",
       "      <td>male</td>\n",
       "      <td>62.0</td>\n",
       "      <td>0</td>\n",
       "      <td>0</td>\n",
       "      <td>240276</td>\n",
       "      <td>9.6875</td>\n",
       "      <td>NaN</td>\n",
       "      <td>Q</td>\n",
       "    </tr>\n",
       "    <tr>\n",
       "      <th>3</th>\n",
       "      <td>895</td>\n",
       "      <td>3</td>\n",
       "      <td>Wirz, Mr. Albert</td>\n",
       "      <td>male</td>\n",
       "      <td>27.0</td>\n",
       "      <td>0</td>\n",
       "      <td>0</td>\n",
       "      <td>315154</td>\n",
       "      <td>8.6625</td>\n",
       "      <td>NaN</td>\n",
       "      <td>S</td>\n",
       "    </tr>\n",
       "    <tr>\n",
       "      <th>4</th>\n",
       "      <td>896</td>\n",
       "      <td>3</td>\n",
       "      <td>Hirvonen, Mrs. Alexander (Helga E Lindqvist)</td>\n",
       "      <td>female</td>\n",
       "      <td>22.0</td>\n",
       "      <td>1</td>\n",
       "      <td>1</td>\n",
       "      <td>3101298</td>\n",
       "      <td>12.2875</td>\n",
       "      <td>NaN</td>\n",
       "      <td>S</td>\n",
       "    </tr>\n",
       "  </tbody>\n",
       "</table>\n",
       "</div>"
      ],
      "text/plain": [
       "   PassengerId  Pclass                                          Name     Sex  \\\n",
       "0          892       3                              Kelly, Mr. James    male   \n",
       "1          893       3              Wilkes, Mrs. James (Ellen Needs)  female   \n",
       "2          894       2                     Myles, Mr. Thomas Francis    male   \n",
       "3          895       3                              Wirz, Mr. Albert    male   \n",
       "4          896       3  Hirvonen, Mrs. Alexander (Helga E Lindqvist)  female   \n",
       "\n",
       "    Age  SibSp  Parch   Ticket     Fare Cabin Embarked  \n",
       "0  34.5      0      0   330911   7.8292   NaN        Q  \n",
       "1  47.0      1      0   363272   7.0000   NaN        S  \n",
       "2  62.0      0      0   240276   9.6875   NaN        Q  \n",
       "3  27.0      0      0   315154   8.6625   NaN        S  \n",
       "4  22.0      1      1  3101298  12.2875   NaN        S  "
      ]
     },
     "execution_count": 4,
     "metadata": {},
     "output_type": "execute_result"
    }
   ],
   "source": [
    "test_df.head()"
   ]
  },
  {
   "cell_type": "code",
   "execution_count": 5,
   "id": "05db8487",
   "metadata": {
    "execution": {
     "iopub.execute_input": "2022-02-07T23:32:49.947562Z",
     "iopub.status.busy": "2022-02-07T23:32:49.937845Z",
     "iopub.status.idle": "2022-02-07T23:32:49.949542Z",
     "shell.execute_reply": "2022-02-07T23:32:49.950107Z",
     "shell.execute_reply.started": "2022-02-07T23:15:14.530434Z"
    },
    "papermill": {
     "duration": 0.026521,
     "end_time": "2022-02-07T23:32:49.950299",
     "exception": false,
     "start_time": "2022-02-07T23:32:49.923778",
     "status": "completed"
    },
    "tags": []
   },
   "outputs": [
    {
     "name": "stdout",
     "output_type": "stream",
     "text": [
      "0.7420382165605095\n"
     ]
    }
   ],
   "source": [
    "female_surviors = train_df.loc[train_df[\"Sex\"] == 'female']['Survived']\n",
    "female_survival_rate = sum(female_surviors) / len(female_surviors)\n",
    "print(female_survival_rate)"
   ]
  },
  {
   "cell_type": "code",
   "execution_count": 6,
   "id": "fbc10b11",
   "metadata": {
    "execution": {
     "iopub.execute_input": "2022-02-07T23:32:49.980289Z",
     "iopub.status.busy": "2022-02-07T23:32:49.976073Z",
     "iopub.status.idle": "2022-02-07T23:32:49.982521Z",
     "shell.execute_reply": "2022-02-07T23:32:49.983038Z",
     "shell.execute_reply.started": "2022-02-07T23:15:25.826644Z"
    },
    "papermill": {
     "duration": 0.021275,
     "end_time": "2022-02-07T23:32:49.983216",
     "exception": false,
     "start_time": "2022-02-07T23:32:49.961941",
     "status": "completed"
    },
    "tags": []
   },
   "outputs": [
    {
     "name": "stdout",
     "output_type": "stream",
     "text": [
      "0.18890814558058924\n"
     ]
    }
   ],
   "source": [
    "male_surviors = train_df.loc[train_df[\"Sex\"] == 'male']['Survived']\n",
    "male_survival_rate = sum(male_surviors)/ len(male_surviors)\n",
    "print(male_survival_rate)"
   ]
  },
  {
   "cell_type": "code",
   "execution_count": 7,
   "id": "0b94ba37",
   "metadata": {
    "execution": {
     "iopub.execute_input": "2022-02-07T23:32:50.009374Z",
     "iopub.status.busy": "2022-02-07T23:32:50.008665Z",
     "iopub.status.idle": "2022-02-07T23:32:50.032560Z",
     "shell.execute_reply": "2022-02-07T23:32:50.033204Z",
     "shell.execute_reply.started": "2022-02-07T23:28:19.189804Z"
    },
    "papermill": {
     "duration": 0.03876,
     "end_time": "2022-02-07T23:32:50.033387",
     "exception": false,
     "start_time": "2022-02-07T23:32:49.994627",
     "status": "completed"
    },
    "tags": []
   },
   "outputs": [
    {
     "data": {
      "text/plain": [
       "PassengerId      int64\n",
       "Survived         int64\n",
       "Pclass           int64\n",
       "Name            object\n",
       "Sex             object\n",
       "Age            float64\n",
       "SibSp            int64\n",
       "Parch            int64\n",
       "Ticket          object\n",
       "Fare           float64\n",
       "Cabin           object\n",
       "Embarked        object\n",
       "dtype: object"
      ]
     },
     "execution_count": 7,
     "metadata": {},
     "output_type": "execute_result"
    }
   ],
   "source": [
    "features = [\"Pclass\", \"Sex\"]\n",
    "\n",
    "y = train_df[\"Survived\"]\n",
    "X = pd.get_dummies(train_df[features]) # ie 0 male: 1 female\n",
    "\n",
    "decision_tree = DecisionTreeClassifier() # create DecisionTree\n",
    "decision_tree = decision_tree.fit(X, y) # fit the data to the model \n",
    "train_df.dtypes"
   ]
  },
  {
   "cell_type": "code",
   "execution_count": 8,
   "id": "865ce8da",
   "metadata": {
    "execution": {
     "iopub.execute_input": "2022-02-07T23:32:50.066355Z",
     "iopub.status.busy": "2022-02-07T23:32:50.065596Z",
     "iopub.status.idle": "2022-02-07T23:32:50.783919Z",
     "shell.execute_reply": "2022-02-07T23:32:50.784439Z",
     "shell.execute_reply.started": "2022-02-07T23:19:10.525598Z"
    },
    "papermill": {
     "duration": 0.739473,
     "end_time": "2022-02-07T23:32:50.784611",
     "exception": false,
     "start_time": "2022-02-07T23:32:50.045138",
     "status": "completed"
    },
    "tags": []
   },
   "outputs": [
    {
     "data": {
      "text/plain": [
       "[Text(167.40000000000003, 190.26, 'X[2] <= 0.5\\ngini = 0.473\\nsamples = 891\\nvalue = [549, 342]'),\n",
       " Text(100.44000000000001, 135.9, 'X[0] <= 2.5\\ngini = 0.383\\nsamples = 314\\nvalue = [81, 233]'),\n",
       " Text(66.96000000000001, 81.53999999999999, 'X[0] <= 1.5\\ngini = 0.1\\nsamples = 170\\nvalue = [9, 161]'),\n",
       " Text(33.480000000000004, 27.180000000000007, 'gini = 0.062\\nsamples = 94\\nvalue = [3, 91]'),\n",
       " Text(100.44000000000001, 27.180000000000007, 'gini = 0.145\\nsamples = 76\\nvalue = [6, 70]'),\n",
       " Text(133.92000000000002, 81.53999999999999, 'gini = 0.5\\nsamples = 144\\nvalue = [72, 72]'),\n",
       " Text(234.36, 135.9, 'X[0] <= 1.5\\ngini = 0.306\\nsamples = 577\\nvalue = [468, 109]'),\n",
       " Text(200.88000000000002, 81.53999999999999, 'gini = 0.466\\nsamples = 122\\nvalue = [77, 45]'),\n",
       " Text(267.84000000000003, 81.53999999999999, 'X[0] <= 2.5\\ngini = 0.242\\nsamples = 455\\nvalue = [391, 64]'),\n",
       " Text(234.36, 27.180000000000007, 'gini = 0.265\\nsamples = 108\\nvalue = [91, 17]'),\n",
       " Text(301.32000000000005, 27.180000000000007, 'gini = 0.234\\nsamples = 347\\nvalue = [300, 47]')]"
      ]
     },
     "execution_count": 8,
     "metadata": {},
     "output_type": "execute_result"
    },
    {
     "data": {
      "image/png": "[encoded data removed]",
      "text/plain": [
       "<Figure size 432x288 with 1 Axes>"
      ]
     },
     "metadata": {
      "needs_background": "light"
     },
     "output_type": "display_data"
    }
   ],
   "source": [
    "plot_tree(decision_tree)"
   ]
  },
  {
   "cell_type": "code",
   "execution_count": 9,
   "id": "9bf28445",
   "metadata": {
    "execution": {
     "iopub.execute_input": "2022-02-07T23:32:50.821518Z",
     "iopub.status.busy": "2022-02-07T23:32:50.820845Z",
     "iopub.status.idle": "2022-02-07T23:32:50.830619Z",
     "shell.execute_reply": "2022-02-07T23:32:50.829950Z",
     "shell.execute_reply.started": "2022-02-07T23:31:52.676722Z"
    },
    "papermill": {
     "duration": 0.032781,
     "end_time": "2022-02-07T23:32:50.830776",
     "exception": false,
     "start_time": "2022-02-07T23:32:50.797995",
     "status": "completed"
    },
    "tags": []
   },
   "outputs": [],
   "source": [
    "#Predicition\n",
    "X_test = pd.get_dummies(test_df[features])\n",
    "predicitions = decision_tree.predict(X_test)\n",
    "\n",
    "# save as a csv in proper format \n",
    "\n",
    "submission_df = pd.DataFrame({\"PassengerId\": test_df['PassengerId'], \"Survived\": predicitions})\n",
    "submission_df.to_csv('submission.csv', index=False)\n"
   ]
  },
  {
   "cell_type": "code",
   "execution_count": null,
   "id": "75ce5533",
   "metadata": {
    "papermill": {
     "duration": 0.01272,
     "end_time": "2022-02-07T23:32:50.856620",
     "exception": false,
     "start_time": "2022-02-07T23:32:50.843900",
     "status": "completed"
    },
    "tags": []
   },
   "outputs": [],
   "source": []
  }
 ],
 "metadata": {
  "kernelspec": {
   "display_name": "Python 3",
   "language": "python",
   "name": "python3"
  },
  "language_info": {
   "codemirror_mode": {
    "name": "ipython",
    "version": 3
   },
   "file_extension": ".py",
   "mimetype": "text/x-python",
   "name": "python",
   "nbconvert_exporter": "python",
   "pygments_lexer": "ipython3",
   "version": "3.7.12"
  },
  "papermill": {
   "default_parameters": {},
   "duration": 13.386984,
   "end_time": "2022-02-07T23:32:51.580629",
   "environment_variables": {},
   "exception": null,
   "input_path": "__notebook__.ipynb",
   "output_path": "__notebook__.ipynb",
   "parameters": {},
   "start_time": "2022-02-07T23:32:38.193645",
   "version": "2.3.3"
  }
 },
 "nbformat": 4,
 "nbformat_minor": 5
}
